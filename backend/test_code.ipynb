{
 "cells": [
  {
   "cell_type": "code",
   "execution_count": 1,
   "metadata": {},
   "outputs": [
    {
     "name": "stdout",
     "output_type": "stream",
     "text": [
      "Dr. Smith: Good morning, Alex. How are you feeling today?\n",
      "Alex Johnson: Good morning, Dr. Smith. I've been better, honestly. My headaches haven't improved much, and I've been feeling unusually fatigued for the past couple of weeks.\n",
      "Dr. Smith: I'm sorry to hear that. Can you describe your headaches to me? When do they usually occur, and how long do they last?\n",
      "Alex Johnson: They usually hit in the late afternoon and can last for several hours. The pain is mostly in the front and feels like a constant pressure.\n",
      "Dr. Smith: Have you noticed anything that triggers them? For example, certain activities, foods, or changes in your environment?\n",
      "Alex Johnson: Not really, though I've been spending more time in front of my computer for work lately. I'm not sure if that's related.\n",
      "Dr. Smith: It might be. Screen time can sometimes contribute to headaches. How about your fatigue? Is it constant, or does it come and go?\n",
      "Alex Johnson: It's more like a constant feeling of being drained. I wake up tired even after a full night's sleep.\n",
      "Dr. Smith: Have you made any changes to your diet, exercise routine, or sleep habits recently?\n",
      "Alex Johnson: No significant changes. Though, I've been skipping breakfast more often due to my morning fatigue.\n",
      "Dr. Smith: I see. Skipping meals, especially breakfast, can contribute to your symptoms. It's important to maintain a balanced diet. How about your water intake?\n",
      "Alex Johnson: I might not be drinking enough water. I usually have coffee in the morning and then maybe a glass of water with lunch and dinner.\n",
      "Dr. Smith: Hydration is crucial, especially if you're experiencing headaches. I recommend increasing your water intake. Now, let's discuss some strategies to manage your screen time and improve your sleep quality. Have you tried taking regular breaks during your workday?\n",
      "Alex Johnson: I try to, but sometimes I get too caught up in work and forget.\n",
      "Dr. Smith: It's important to take short breaks every hour to rest your eyes and move around. Also, consider setting a fixed time to stop using electronic devices before bed to help improve your sleep quality.\n",
      "Alex Johnson: I'll definitely try that. Do you think these changes will help with the fatigue as well?\n",
      "Dr. Smith: Yes, improving your sleep and managing screen time can positively affect your energy levels. However, I'd also like to run some tests to rule out other potential causes of your symptoms.\n",
      "Alex Johnson: That sounds good. What kind of tests are you thinking?\n",
      "Dr. Smith: A complete blood count (CBC) and thyroid function tests to start. These can help us check for any underlying issues that might be contributing to your symptoms.\n",
      "Alex Johnson: Okay, how do I go about getting these tests done?\n",
      "Dr. Smith: I'll send the orders to your preferred lab, and you can schedule an appointment at your convenience. They'll send us the results directly.\n",
      "Alex Johnson: Sounds good. Is there anything else I should be doing in the meantime?\n",
      "Dr. Smith: Focus on the lifestyle adjustments we discussed: better hydration, regular meals, managing screen time, and taking breaks. Also, try to incorporate some light exercise into your routine, like walking or stretching, to help boost your energy levels.\n",
      "Alex Johnson: I will. Thank you for your help, Dr. Smith.\n",
      "Dr. Smith: You're welcome, Alex. We'll follow up once we have your test results. Don't hesitate to reach out if you have any questions or if there's anything else you need.\n",
      "Alex Johnson: Thank you, Dr. Smith. I appreciate it.\n",
      "Dr. Smith: Take care, Alex. I look forward to hearing about your progress.\n"
     ]
    }
   ],
   "source": [
    "import json\n",
    "\n",
    "# Load the trasncript JSON data\n",
    "with open(\"./transcript.json\", \"r\") as file:\n",
    "    data = json.load(file)\n",
    "\n",
    "# Extract and format the transcript text\n",
    "formatted_transcript = \"\\n\".join(\n",
    "    [f'{entry[\"speaker\"]}: {entry[\"text\"]}' for entry in data[\"transcript\"]]\n",
    ")\n",
    "\n",
    "print(formatted_transcript)"
   ]
  }
 ],
 "metadata": {
  "kernelspec": {
   "display_name": ".venv",
   "language": "python",
   "name": "python3"
  },
  "language_info": {
   "codemirror_mode": {
    "name": "ipython",
    "version": 3
   },
   "file_extension": ".py",
   "mimetype": "text/x-python",
   "name": "python",
   "nbconvert_exporter": "python",
   "pygments_lexer": "ipython3",
   "version": "3.12.2"
  }
 },
 "nbformat": 4,
 "nbformat_minor": 2
}
